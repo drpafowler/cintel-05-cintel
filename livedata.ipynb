{
 "cells": [
  {
   "cell_type": "markdown",
   "metadata": {},
   "source": [
    "# This is just a notebook to practice getting live temperature data"
   ]
  },
  {
   "cell_type": "code",
   "execution_count": 13,
   "metadata": {},
   "outputs": [
    {
     "name": "stdout",
     "output_type": "stream",
     "text": [
      "Coordinates -77.875°N 166.625°E\n",
      "Elevation 47.0 m asl\n",
      "Timezone None None\n",
      "Timezone difference to GMT+0 0 s\n",
      "                         date  temperature_2m\n",
      "0   2024-11-05 06:15:00+00:00      -16.250000\n",
      "1   2024-11-05 06:30:00+00:00      -16.200001\n",
      "2   2024-11-05 06:45:00+00:00      -16.150000\n",
      "3   2024-11-05 07:00:00+00:00      -16.100000\n",
      "4   2024-11-05 07:15:00+00:00      -16.100000\n",
      "..                        ...             ...\n",
      "307 2024-11-08 11:00:00+00:00      -13.250000\n",
      "308 2024-11-08 11:15:00+00:00      -13.100000\n",
      "309 2024-11-08 11:30:00+00:00      -12.900000\n",
      "310 2024-11-08 11:45:00+00:00      -12.750000\n",
      "311 2024-11-08 12:00:00+00:00      -12.600000\n",
      "\n",
      "[312 rows x 2 columns]\n"
     ]
    }
   ],
   "source": [
    "import openmeteo_requests\n",
    "import requests_cache\n",
    "import pandas as pd\n",
    "from retry_requests import retry\n",
    "\n",
    "# Setup the Open-Meteo API client with cache and retry on error\n",
    "cache_session = requests_cache.CachedSession('.cache', expire_after = 3600)\n",
    "retry_session = retry(cache_session, retries = 5, backoff_factor = 0.2)\n",
    "openmeteo = openmeteo_requests.Client(session = retry_session)\n",
    "\n",
    "# Make sure all required weather variables are listed here\n",
    "# The order of variables in hourly or daily is important to assign them correctly below\n",
    "url = \"https://api.open-meteo.com/v1/forecast\"\n",
    "params = {\n",
    "\t\"latitude\": -77.846,\n",
    "\t\"longitude\": 166.676,\n",
    "\t\"minutely_15\": \"temperature_2m\",\n",
    "\t\"timezone\": \"GMT\",\n",
    "\t\"past_minutely_15\": 24,\n",
    "\t\"forecast_days\": 1\n",
    "}\n",
    "responses = openmeteo.weather_api(url, params=params)\n",
    "\n",
    "# Process first location. Add a for-loop for multiple locations or weather models\n",
    "response = responses[0]\n",
    "print(f\"Coordinates {response.Latitude()}°N {response.Longitude()}°E\")\n",
    "print(f\"Elevation {response.Elevation()} m asl\")\n",
    "print(f\"Timezone {response.Timezone()} {response.TimezoneAbbreviation()}\")\n",
    "print(f\"Timezone difference to GMT+0 {response.UtcOffsetSeconds()} s\")\n",
    "\n",
    "# Process minutely_15 data. The order of variables needs to be the same as requested.\n",
    "minutely_15 = response.Minutely15()\n",
    "minutely_15_temperature_2m = minutely_15.Variables(0).ValuesAsNumpy()\n",
    "\n",
    "minutely_15_data = {\"date\": pd.date_range(\n",
    "\tstart = pd.to_datetime(minutely_15.Time(), unit = \"s\", utc = True),\n",
    "\tend = pd.to_datetime(minutely_15.TimeEnd(), unit = \"s\", utc = True),\n",
    "\tfreq = pd.Timedelta(seconds = minutely_15.Interval()),\n",
    "\tinclusive = \"left\"\n",
    ")}\n",
    "minutely_15_data[\"temperature_2m\"] = minutely_15_temperature_2m\n",
    "\n",
    "minutely_15_dataframe = pd.DataFrame(data = minutely_15_data)\n",
    "print(minutely_15_dataframe)\n"
   ]
  }
 ],
 "metadata": {
  "kernelspec": {
   "display_name": ".venv",
   "language": "python",
   "name": "python3"
  },
  "language_info": {
   "codemirror_mode": {
    "name": "ipython",
    "version": 3
   },
   "file_extension": ".py",
   "mimetype": "text/x-python",
   "name": "python",
   "nbconvert_exporter": "python",
   "pygments_lexer": "ipython3",
   "version": "3.13.0"
  }
 },
 "nbformat": 4,
 "nbformat_minor": 2
}
